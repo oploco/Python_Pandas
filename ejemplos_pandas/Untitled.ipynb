{
 "cells": [
  {
   "cell_type": "code",
   "execution_count": 1,
   "id": "0a1094f9-7fad-4df6-b063-f686671c790b",
   "metadata": {},
   "outputs": [
    {
     "name": "stdout",
     "output_type": "stream",
     "text": [
      "   match result\n",
      "0      1    win\n",
      "1      2    win\n",
      "2      3   draw\n",
      "3      4   draw\n",
      "4      5   lose\n",
      "5      6    win\n",
      "> Use LabelEncoder:\n",
      "   match  result\n",
      "0      1       2\n",
      "1      2       2\n",
      "2      3       0\n",
      "3      4       0\n",
      "4      5       1\n",
      "5      6       2\n",
      "['draw' 'lose' 'win']\n",
      "   match result\n",
      "0      1    win\n",
      "1      2    win\n",
      "2      3   draw\n",
      "3      4   draw\n",
      "4      5   lose\n",
      "5      6    win\n",
      "> Use MAP:\n",
      "   match  result\n",
      "0      1       3\n",
      "1      2       3\n",
      "2      3       1\n",
      "3      4       1\n",
      "4      5       0\n",
      "5      6       3\n",
      "   match result\n",
      "0      1    win\n",
      "1      2    win\n",
      "2      3   draw\n",
      "3      4   draw\n",
      "4      5   lose\n",
      "5      6    win\n"
     ]
    }
   ],
   "source": [
    "import pandas as pd\n",
    "from sklearn import preprocessing\n",
    "from io import StringIO\n",
    "\n",
    "str_data = r\"\"\"match,result\n",
    "1,win\n",
    "2,win\n",
    "3,draw\n",
    "4,draw\n",
    "5,lose\n",
    "6,win\n",
    "\"\"\"\n",
    "df = pd.read_csv(StringIO(str_data))\n",
    "df_copy = df.copy()\n",
    "print(df)\n",
    "\n",
    "print(\"> Use LabelEncoder:\")\n",
    "le = preprocessing.LabelEncoder()\n",
    "df['result'] = le.fit_transform(df['result'])\n",
    "print(df)\n",
    "print(le.classes_)\n",
    "df['result'] = le.inverse_transform(df['result'])\n",
    "print(df)\n",
    "\n",
    "print(\"> Use MAP:\")\n",
    "res_map = {\n",
    "    'win': 3,\n",
    "    'lose': 0,\n",
    "    'draw': 1\n",
    "}\n",
    "\n",
    "inv_map = {v: k for k, v in res_map.items()}\n",
    "\n",
    "df_copy['result'] = df_copy['result'].map(res_map).astype(int)\n",
    "print(df_copy)\n",
    "\n",
    "df_copy['result'] = df_copy['result'].map(inv_map).astype(str)\n",
    "print(df_copy)"
   ]
  },
  {
   "cell_type": "code",
   "execution_count": null,
   "id": "a5d0448c-ce20-44c6-9e8b-d20e6f66dc86",
   "metadata": {},
   "outputs": [],
   "source": []
  }
 ],
 "metadata": {
  "kernelspec": {
   "display_name": "Python 3 (ipykernel)",
   "language": "python",
   "name": "python3"
  },
  "language_info": {
   "codemirror_mode": {
    "name": "ipython",
    "version": 3
   },
   "file_extension": ".py",
   "mimetype": "text/x-python",
   "name": "python",
   "nbconvert_exporter": "python",
   "pygments_lexer": "ipython3",
   "version": "3.12.2"
  }
 },
 "nbformat": 4,
 "nbformat_minor": 5
}
