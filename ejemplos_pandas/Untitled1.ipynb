{
 "cells": [
  {
   "cell_type": "code",
   "execution_count": 2,
   "id": "ed6c85e7-8511-4b1e-a2dd-beb5233f4a1c",
   "metadata": {},
   "outputs": [
    {
     "name": "stdout",
     "output_type": "stream",
     "text": [
      "            col_1\n",
      "date             \n",
      "2000-01-03      1\n",
      "2000-01-04      3\n",
      "2000-01-05      5\n"
     ]
    }
   ],
   "source": [
    "import pandas as pd\n",
    "import sys\n",
    "\n",
    "\n",
    "#create_new_column_from_substring_in_another_column\n",
    "if sys.version_info[0] < 3:\n",
    "    from StringIO import StringIO\n",
    "else:\n",
    "    from io import StringIO\n",
    "\n",
    "data = r\"\"\"\n",
    "date,col_1\n",
    "2000-01-03,1\n",
    "2000-01-04,3\n",
    "2000-01-05,5\n",
    "\"\"\"\n",
    "\n",
    "df = pd.read_csv(StringIO(data),\n",
    "                 index_col=['date'],\n",
    "                 parse_dates=True\n",
    "                 )\n",
    "\n",
    "assert isinstance(df.index, pd.core.indexes.datetimes.DatetimeIndex)\n",
    "print(df)"
   ]
  },
  {
   "cell_type": "code",
   "execution_count": null,
   "id": "981b32c3-bd4c-446f-a701-862e9d965c8d",
   "metadata": {},
   "outputs": [],
   "source": []
  }
 ],
 "metadata": {
  "kernelspec": {
   "display_name": "Python 3 (ipykernel)",
   "language": "python",
   "name": "python3"
  },
  "language_info": {
   "codemirror_mode": {
    "name": "ipython",
    "version": 3
   },
   "file_extension": ".py",
   "mimetype": "text/x-python",
   "name": "python",
   "nbconvert_exporter": "python",
   "pygments_lexer": "ipython3",
   "version": "3.12.2"
  }
 },
 "nbformat": 4,
 "nbformat_minor": 5
}
