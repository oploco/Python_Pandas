{
 "cells": [
  {
   "cell_type": "code",
   "execution_count": null,
   "id": "d01f23d2-1369-42d7-841a-bc8a158841fe",
   "metadata": {},
   "outputs": [],
   "source": [
    "import tensorflow as tf\n",
    "import numpy as np\n",
    "\n",
    "# Datos de entrenamiento (Celsius y su equivalente en Fahrenheit)\n",
    "celsius = np.array([-40, -10, 0, 8, 15, 22, 38], dtype=float)\n",
    "fahrenheit = np.array([-40, 14, 32, 46, 59, 72, 100], dtype=float)\n",
    "\n",
    "# Definir el modelo de red neuronal\n",
    "modelo = tf.keras.Sequential([\n",
    "    tf.keras.layers.Dense(units=10, input_shape=[1]),  # Capa oculta con 10 neuronas\n",
    "    tf.keras.layers.Dense(units=10),                  # Segunda capa oculta con 10 neuronas\n",
    "    tf.keras.layers.Dense(units=1)                     # Capa de salida con 1 neurona\n",
    "])\n"
   ]
  },
  {
   "cell_type": "code",
   "execution_count": null,
   "id": "da92684c-5720-47fe-a8e1-4ce5d1af3993",
   "metadata": {},
   "outputs": [],
   "source": [
    "# Compilar el modelo\n",
    "modelo.compile(optimizer='adam', loss='mean_squared_error')\n",
    "\n",
    "# Entrenar el modelo\n",
    "modelo.fit(celsius, fahrenheit, epochs=500, verbose=False)\n",
    "print(\"Modelo entrenado.\")\n",
    "\n",
    "# Predicción de la temperatura en Fahrenheit para un valor en Celsius\n",
    "temperatura_celsius = 100\n",
    "temperatura_fahrenheit = modelo.predict([temperatura_celsius])\n",
    "print(f\"{temperatura_celsius} grados Celsius equivale a {temperatura_fahrenheit[0][0]} grados Fahrenheit.\")"
   ]
  }
 ],
 "metadata": {
  "kernelspec": {
   "display_name": "Python 3 (ipykernel)",
   "language": "python",
   "name": "python3"
  },
  "language_info": {
   "codemirror_mode": {
    "name": "ipython",
    "version": 3
   },
   "file_extension": ".py",
   "mimetype": "text/x-python",
   "name": "python",
   "nbconvert_exporter": "python",
   "pygments_lexer": "ipython3",
   "version": "3.12.2"
  }
 },
 "nbformat": 4,
 "nbformat_minor": 5
}
