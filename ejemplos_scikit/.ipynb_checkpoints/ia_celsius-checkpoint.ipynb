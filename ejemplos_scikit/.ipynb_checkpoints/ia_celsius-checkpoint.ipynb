{
 "cells": [
  {
   "cell_type": "code",
   "execution_count": 3,
   "id": "d57db364-89cf-46fa-9f67-7b826be92ba6",
   "metadata": {},
   "outputs": [
    {
     "ename": "NameError",
     "evalue": "name 'temperatura' is not defined",
     "output_type": "error",
     "traceback": [
      "\u001b[1;31m---------------------------------------------------------------------------\u001b[0m",
      "\u001b[1;31mNameError\u001b[0m                                 Traceback (most recent call last)",
      "Cell \u001b[1;32mIn[3], line 10\u001b[0m\n\u001b[0;32m      6\u001b[0m fahrenheit \u001b[38;5;241m=\u001b[39m np\u001b[38;5;241m.\u001b[39marray([\u001b[38;5;241m-\u001b[39m\u001b[38;5;241m40\u001b[39m, \u001b[38;5;241m14\u001b[39m, \u001b[38;5;241m32\u001b[39m, \u001b[38;5;241m46\u001b[39m, \u001b[38;5;241m59\u001b[39m, \u001b[38;5;241m72\u001b[39m, \u001b[38;5;241m100\u001b[39m], dtype\u001b[38;5;241m=\u001b[39m\u001b[38;5;28mfloat\u001b[39m)\n\u001b[0;32m      8\u001b[0m modelo \u001b[38;5;241m=\u001b[39m LinearRegression()\n\u001b[1;32m---> 10\u001b[0m modelo\u001b[38;5;241m.\u001b[39mfit(\u001b[43mtemperatura\u001b[49m, cantidad_piratas)\n\u001b[0;32m     12\u001b[0m prediccion_piratas \u001b[38;5;241m=\u001b[39m modelo\u001b[38;5;241m.\u001b[39mpredict(temperatura)\n\u001b[0;32m     14\u001b[0m \u001b[38;5;28mprint\u001b[39m(prediccion_piratas)\n",
      "\u001b[1;31mNameError\u001b[0m: name 'temperatura' is not defined"
     ]
    }
   ],
   "source": [
    "import numpy as np\n",
    "from sklearn.linear_model import LinearRegression\n",
    "\n",
    "# Datos de entrenamiento (Celsius y su equivalente en Fahrenheit)\n",
    "celsius = np.array([-40, -10, 0, 8, 15, 22, 38], dtype=float).reshape(-1, 1)\n",
    "fahrenheit = np.array([-40, 14, 32, 46, 59, 72, 100], dtype=float)\n",
    "\n",
    "modelo = LinearRegression()\n",
    "\n",
    "modelo.fit(temperatura, cantidad_piratas)\n",
    "\n",
    "prediccion_piratas = modelo.predict(celsius)\n",
    "\n",
    "print(prediccion_piratas)\n"
   ]
  },
  {
   "cell_type": "code",
   "execution_count": null,
   "id": "47abb03e-c5d1-45a0-b417-f25a98cd2c6e",
   "metadata": {},
   "outputs": [],
   "source": []
  },
  {
   "cell_type": "code",
   "execution_count": null,
   "id": "a942ea88-68d1-4b6e-a959-25310dfd1e85",
   "metadata": {},
   "outputs": [],
   "source": []
  },
  {
   "cell_type": "code",
   "execution_count": null,
   "id": "58590727-46fb-4bbf-b1ba-ecb865eb349e",
   "metadata": {},
   "outputs": [],
   "source": []
  }
 ],
 "metadata": {
  "kernelspec": {
   "display_name": "Python 3 (ipykernel)",
   "language": "python",
   "name": "python3"
  },
  "language_info": {
   "codemirror_mode": {
    "name": "ipython",
    "version": 3
   },
   "file_extension": ".py",
   "mimetype": "text/x-python",
   "name": "python",
   "nbconvert_exporter": "python",
   "pygments_lexer": "ipython3",
   "version": "3.12.2"
  }
 },
 "nbformat": 4,
 "nbformat_minor": 5
}
