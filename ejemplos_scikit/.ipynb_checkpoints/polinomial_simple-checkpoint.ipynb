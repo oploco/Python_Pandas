{
 "cells": [
  {
   "cell_type": "code",
   "execution_count": null,
   "id": "0a15f307-d2a8-4209-9097-072839420dd5",
   "metadata": {},
   "outputs": [],
   "source": [
    "import numpy as np\n",
    "import matplotlib.pyplot as plt\n",
    "\n",
    "# Coeficientes de la función polinomial (por ejemplo, y = 2x^2 + 3x + 4)\n",
    "coeficientes = [2, 3, 4]\n",
    "\n",
    "# Crear un objeto polinomial a partir de los coeficientes\n",
    "polinomio = np.poly1d(coeficientes)\n",
    "\n",
    "# Definir un rango de valores x para evaluar la función polinomial\n",
    "x = np.linspace(-10, 10, 100)\n",
    "\n",
    "# Evaluar la función polinomial en el rango de valores x\n",
    "y = polinomio(x)\n",
    "\n",
    "# Graficar la función polinomial\n",
    "plt.plot(x, y, label=f'Función polinomial: {polinomio}')\n",
    "\n",
    "# Agregar etiquetas y título al gráfico\n",
    "plt.xlabel('x')\n",
    "plt.ylabel('y')\n",
    "plt.title('Función polinomial')\n",
    "plt.legend()\n",
    "\n",
    "# Mostrar el gráfico\n",
    "plt.show()"
   ]
  }
 ],
 "metadata": {
  "kernelspec": {
   "display_name": "Python 3 (ipykernel)",
   "language": "python",
   "name": "python3"
  },
  "language_info": {
   "codemirror_mode": {
    "name": "ipython",
    "version": 3
   },
   "file_extension": ".py",
   "mimetype": "text/x-python",
   "name": "python",
   "nbconvert_exporter": "python",
   "pygments_lexer": "ipython3",
   "version": "3.12.2"
  }
 },
 "nbformat": 4,
 "nbformat_minor": 5
}
