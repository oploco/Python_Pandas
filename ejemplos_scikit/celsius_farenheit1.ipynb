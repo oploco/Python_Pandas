{
 "cells": [
  {
   "cell_type": "code",
   "execution_count": 1,
   "id": "d57db364-89cf-46fa-9f67-7b826be92ba6",
   "metadata": {},
   "outputs": [
    {
     "name": "stderr",
     "output_type": "stream",
     "text": [
      "C:\\SW\\jupyter\\jupyter_1\\Lib\\site-packages\\keras\\src\\layers\\core\\dense.py:88: UserWarning: Do not pass an `input_shape`/`input_dim` argument to a layer. When using Sequential models, prefer using an `Input(shape)` object as the first layer in the model instead.\n",
      "  super().__init__(activity_regularizer=activity_regularizer, **kwargs)\n"
     ]
    },
    {
     "name": "stdout",
     "output_type": "stream",
     "text": [
      "Modelo entrenado.\n"
     ]
    }
   ],
   "source": [
    "import tensorflow as tf\n",
    "import numpy as np\n",
    "\n",
    "# Datos de entrenamiento (Celsius y su equivalente en Fahrenheit)\n",
    "celsius = np.array([-40, -10, 0, 8, 15, 22, 38], dtype=float)\n",
    "fahrenheit = np.array([-40, 14, 32, 46, 59, 72, 100], dtype=float)\n",
    "\n",
    "# Capa oculta con una sola neurona\n",
    "capa_oculta = tf.keras.layers.Dense(units=1, input_shape=[1])\n",
    "\n",
    "# Modelo secuencial con una capa oculta\n",
    "modelo = tf.keras.Sequential([capa_oculta])\n",
    "\n",
    "# Compilación del modelo\n",
    "modelo.compile(loss='mean_squared_error',\n",
    "                optimizer=tf.keras.optimizers.Adam(0.1))\n",
    "\n",
    "# Entrenamiento del modelo\n",
    "historia = modelo.fit(celsius, fahrenheit, epochs=500, verbose=False)\n",
    "print(\"Modelo entrenado.\")\n"
   ]
  },
  {
   "cell_type": "code",
   "execution_count": 2,
   "id": "a0145e19-2bab-48d7-b0e8-cbe8cdc96059",
   "metadata": {},
   "outputs": [
    {
     "name": "stdout",
     "output_type": "stream",
     "text": [
      "\u001b[1m1/1\u001b[0m \u001b[32m━━━━━━━━━━━━━━━━━━━━\u001b[0m\u001b[37m\u001b[0m \u001b[1m0s\u001b[0m 23ms/step\n",
      "[15.] grados Celsius equivale a 56.260955810546875 grados Fahrenheit.\n"
     ]
    }
   ],
   "source": [
    "# Predicción de la temperatura en Fahrenheit para un valor en Celsius\n",
    "temperatura_celsius = np.array([15.0], dtype=float)\n",
    "temperatura_fahrenheit = modelo.predict([temperatura_celsius])\n",
    "print(f\"{temperatura_celsius} grados Celsius equivale a {temperatura_fahrenheit[0][0]} grados Fahrenheit.\")"
   ]
  },
  {
   "cell_type": "code",
   "execution_count": null,
   "id": "47abb03e-c5d1-45a0-b417-f25a98cd2c6e",
   "metadata": {},
   "outputs": [],
   "source": []
  },
  {
   "cell_type": "code",
   "execution_count": null,
   "id": "a942ea88-68d1-4b6e-a959-25310dfd1e85",
   "metadata": {},
   "outputs": [],
   "source": []
  },
  {
   "cell_type": "code",
   "execution_count": null,
   "id": "58590727-46fb-4bbf-b1ba-ecb865eb349e",
   "metadata": {},
   "outputs": [],
   "source": []
  }
 ],
 "metadata": {
  "kernelspec": {
   "display_name": "Python 3 (ipykernel)",
   "language": "python",
   "name": "python3"
  },
  "language_info": {
   "codemirror_mode": {
    "name": "ipython",
    "version": 3
   },
   "file_extension": ".py",
   "mimetype": "text/x-python",
   "name": "python",
   "nbconvert_exporter": "python",
   "pygments_lexer": "ipython3",
   "version": "3.12.2"
  }
 },
 "nbformat": 4,
 "nbformat_minor": 5
}
