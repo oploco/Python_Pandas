{
 "cells": [
  {
   "cell_type": "code",
   "execution_count": 1,
   "id": "d01f23d2-1369-42d7-841a-bc8a158841fe",
   "metadata": {},
   "outputs": [
    {
     "name": "stderr",
     "output_type": "stream",
     "text": [
      "C:\\SW\\jupyter\\jupyter_1\\Lib\\site-packages\\keras\\src\\layers\\core\\dense.py:88: UserWarning: Do not pass an `input_shape`/`input_dim` argument to a layer. When using Sequential models, prefer using an `Input(shape)` object as the first layer in the model instead.\n",
      "  super().__init__(activity_regularizer=activity_regularizer, **kwargs)\n"
     ]
    }
   ],
   "source": [
    "import tensorflow as tf\n",
    "import numpy as np\n",
    "\n",
    "# Datos de entrenamiento (Celsius y su equivalente en Fahrenheit)\n",
    "celsius = np.array([-40, -10, 0, 8, 15, 22, 38], dtype=float)\n",
    "fahrenheit = np.array([-40, 14, 32, 46, 59, 72, 100], dtype=float)\n",
    "\n",
    "# Definir el modelo de red neuronal\n",
    "modelo = tf.keras.Sequential([\n",
    "    tf.keras.layers.Dense(units=10, input_shape=[1]),  # Capa oculta con 10 neuronas\n",
    "    tf.keras.layers.Dense(units=10),                  # Segunda capa oculta con 10 neuronas\n",
    "    tf.keras.layers.Dense(units=1)                     # Capa de salida con 1 neurona\n",
    "])\n"
   ]
  },
  {
   "cell_type": "code",
   "execution_count": 2,
   "id": "da92684c-5720-47fe-a8e1-4ce5d1af3993",
   "metadata": {},
   "outputs": [
    {
     "name": "stdout",
     "output_type": "stream",
     "text": [
      "Modelo entrenado.\n"
     ]
    }
   ],
   "source": [
    "# Compilar el modelo\n",
    "modelo.compile(optimizer='adam', loss='mean_squared_error')\n",
    "\n",
    "# Entrenar el modelo\n",
    "modelo.fit(celsius, fahrenheit, epochs=500, verbose=False)\n",
    "print(\"Modelo entrenado.\")"
   ]
  },
  {
   "cell_type": "code",
   "execution_count": 3,
   "id": "1da0e626-dd94-46bf-837e-786e0529cc42",
   "metadata": {},
   "outputs": [
    {
     "name": "stdout",
     "output_type": "stream",
     "text": [
      "\u001b[1m1/1\u001b[0m \u001b[32m━━━━━━━━━━━━━━━━━━━━\u001b[0m\u001b[37m\u001b[0m \u001b[1m0s\u001b[0m 30ms/step\n",
      "[15.] grados Celsius equivale a 36.78157043457031 grados Fahrenheit.\n"
     ]
    }
   ],
   "source": [
    "# Predicción de la temperatura en Fahrenheit para un valor en Celsius\n",
    "temperatura_celsius = np.array([15.0], dtype=float)\n",
    "temperatura_fahrenheit = modelo.predict([temperatura_celsius])\n",
    "print(f\"{temperatura_celsius} grados Celsius equivale a {temperatura_fahrenheit[0][0]} grados Fahrenheit.\")"
   ]
  },
  {
   "cell_type": "code",
   "execution_count": 4,
   "id": "3d16e029-a399-4cd4-8c04-037f99b4378c",
   "metadata": {},
   "outputs": [
    {
     "name": "stdout",
     "output_type": "stream",
     "text": [
      "\u001b[1m1/1\u001b[0m \u001b[32m━━━━━━━━━━━━━━━━━━━━\u001b[0m\u001b[37m\u001b[0m \u001b[1m0s\u001b[0m 52ms/step - loss: 651.2972\n"
     ]
    }
   ],
   "source": [
    "# Evaluar el modelo\n",
    "puntaje = modelo.evaluate(celsius, fahrenheit)\n",
    "#print(\"score:\", modelo.score(celsius, fahrenheit))"
   ]
  },
  {
   "cell_type": "code",
   "execution_count": null,
   "id": "e418f1ec-ae12-4975-9a69-7ad01ce2d8cc",
   "metadata": {},
   "outputs": [],
   "source": []
  }
 ],
 "metadata": {
  "kernelspec": {
   "display_name": "Python 3 (ipykernel)",
   "language": "python",
   "name": "python3"
  },
  "language_info": {
   "codemirror_mode": {
    "name": "ipython",
    "version": 3
   },
   "file_extension": ".py",
   "mimetype": "text/x-python",
   "name": "python",
   "nbconvert_exporter": "python",
   "pygments_lexer": "ipython3",
   "version": "3.12.2"
  }
 },
 "nbformat": 4,
 "nbformat_minor": 5
}
